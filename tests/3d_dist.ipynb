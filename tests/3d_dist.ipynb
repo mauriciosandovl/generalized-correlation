{
 "metadata": {
  "language_info": {
   "codemirror_mode": {
    "name": "ipython",
    "version": 3
   },
   "file_extension": ".py",
   "mimetype": "text/x-python",
   "name": "python",
   "nbconvert_exporter": "python",
   "pygments_lexer": "ipython3",
   "version": "3.7.10"
  },
  "orig_nbformat": 2,
  "kernelspec": {
   "name": "pythonjvsc74a57bd078ac086e21afcaed7b29ee45d1d310586dcd3cb2da7b5b4dcd412ef78f7daff4",
   "display_name": "Python 3.7.10 64-bit ('base': conda)"
  },
  "metadata": {
   "interpreter": {
    "hash": "78ac086e21afcaed7b29ee45d1d310586dcd3cb2da7b5b4dcd412ef78f7daff4"
   }
  }
 },
 "nbformat": 4,
 "nbformat_minor": 2,
 "cells": [
  {
   "cell_type": "code",
   "execution_count": 1,
   "metadata": {},
   "outputs": [],
   "source": [
    "#!/usr/bin/env python\n",
    "import numpy as np\n",
    "import seaborn as sns\n",
    "import matplotlib.pyplot as plt\n",
    "from kde import ent_kde_3"
   ]
  },
  {
   "cell_type": "code",
   "execution_count": 2,
   "metadata": {},
   "outputs": [],
   "source": [
    "def gen_sample(dist, xmin, xmax, *args):\n",
    "    \"\"\"\n",
    "    Generate a sample of a given distribution via Monte Carlo simulation\n",
    "    \"\"\"\n",
    "    rng = np.random.default_rng(2021)\n",
    "    sample = []\n",
    "    n = 1000\n",
    "    \n",
    "    while n > 0:\n",
    "        u = rng.uniform(xmin, xmax, (1, dim))[0] # domain of distribution\n",
    "        e = dist(u, *args)\n",
    "        t = rng.uniform(0, 1, dim)[0] # image of distribution\n",
    "        if e > t:\n",
    "           n -= 1\n",
    "           sample.append(u)\n",
    "    \n",
    "    return np.array(sample)"
   ]
  },
  {
   "cell_type": "code",
   "execution_count": 3,
   "metadata": {},
   "outputs": [],
   "source": [
    "# Environmnent variables\n",
    "dim = 3\n",
    "nframes = 1000"
   ]
  },
  {
   "cell_type": "code",
   "execution_count": 4,
   "metadata": {},
   "outputs": [
    {
     "output_type": "stream",
     "name": "stdout",
     "text": [
      "Normal distribution with mean [0. 0. 0.] and variance [[1.  0.6 0.6]\n [0.6 1.  0.6]\n [0.6 0.6 1. ]]\nReal entropy:  3.7348\nKDE entropy:   3.8677\n"
     ]
    }
   ],
   "source": [
    "# 1. Normal distribution\n",
    "\n",
    "def norm_dist(x, mean, cov):\n",
    "    x_m = x - mean\n",
    "    return (1. / (np.sqrt((2 * np.pi)**dim * np.linalg.det(cov))) *\n",
    "        np.exp(-(np.linalg.solve(cov, x_m).T.dot(x_m)) / 2))\n",
    "\n",
    "r = .6\n",
    "mean = np.zeros(dim)\n",
    "cov = np.array([\n",
    "    [1, r, r],\n",
    "    [r, 1, r],\n",
    "    [r, r, 1]]\n",
    ")\n",
    "\n",
    "X1 = gen_sample(norm_dist, -3, 3, mean, cov)\n",
    "\n",
    "det = np.linalg.det(np.array(cov))\n",
    "norm_ent = 0.5 * np.log((2*np.pi*np.e)**dim * det)\n",
    "kde_norm = ent_kde_3(X1, 3)[0]\n",
    "\n",
    "norm_ent = round(norm_ent, 4)\n",
    "kde_norm = round(kde_norm, 4)\n",
    "\n",
    "print(f'Normal distribution with mean {mean} and variance {cov}')\n",
    "print('Real entropy: ', norm_ent)\n",
    "print('KDE entropy:  ', kde_norm)"
   ]
  },
  {
   "cell_type": "code",
   "execution_count": null,
   "metadata": {},
   "outputs": [],
   "source": []
  }
 ]
}