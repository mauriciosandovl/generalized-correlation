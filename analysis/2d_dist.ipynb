{
 "cells": [
  {
   "cell_type": "code",
   "execution_count": 1,
   "metadata": {},
   "outputs": [],
   "source": [
    "#!/usr/bin/env python\n",
    "import numpy as np\n",
    "import seaborn as sns\n",
    "import matplotlib.pyplot as plt\n",
    "from math import factorial\n",
    "from entropy import ent_kde, ent_knn\n",
    "\n",
    "# Environmnent variables\n",
    "dim = 2\n",
    "nframes = 1000\n"
   ]
  },
  {
   "cell_type": "code",
   "execution_count": 2,
   "metadata": {},
   "outputs": [],
   "source": [
    "def gen_sample(dist, dim, nframes, xmin, xmax, *args):\n",
    "    \"\"\"\n",
    "    Generate a sample of a given distribution via Monte Carlo simulation\n",
    "    \"\"\"\n",
    "    rng = np.random.default_rng(2021)\n",
    "    sample = []\n",
    "\n",
    "    while nframes > 0:\n",
    "        dom = rng.uniform(xmin, xmax, dim)\n",
    "        img = dist(dom, *args)\n",
    "        ran = rng.uniform(0, 1)\n",
    "        if img > ran:\n",
    "           nframes -= 1\n",
    "           sample.append(dom)\n",
    "    \n",
    "    return np.array(sample)\n",
    "    "
   ]
  },
  {
   "cell_type": "code",
   "execution_count": 3,
   "metadata": {},
   "outputs": [
    {
     "name": "stdout",
     "output_type": "stream",
     "text": [
      "Normal distribution with mean [0. 0.] and variance\n",
      "[[1.  0.1]\n",
      " [0.9 1. ]]\n",
      "Real entropy:  2.7907\n",
      "KDE entropy:   2.8472\n",
      "KNN entropy:   2.6816\n"
     ]
    }
   ],
   "source": [
    "# 1. Normal distribution\n",
    "\n",
    "def norm_dist(x, mean, cov):\n",
    "    x_m = x - mean\n",
    "    return (1. / (np.sqrt((2 * np.pi)**dim * np.linalg.det(cov))) *\n",
    "        np.exp(-(np.linalg.solve(cov, x_m).T.dot(x_m)) / 2))\n",
    "\n",
    "\n",
    "r1 = .1\n",
    "r2 = .9\n",
    "mean = np.zeros(dim)\n",
    "cov = np.array([\n",
    "    [1, r1],\n",
    "    [r2, 1]]\n",
    ")\n",
    "xmin, xmax = -3, 3\n",
    "\n",
    "X1 = gen_sample(norm_dist, dim, nframes, xmin, xmax, mean, cov).reshape(-1, 2)\n",
    "\n",
    "norm_ent = 0.5 * np.log((2*np.pi*np.e)**dim * np.linalg.det(cov))\n",
    "kde_norm = ent_kde(X1, bound1=xmin, bound2=xmax)\n",
    "knn_norm = ent_knn(X1, n_neighbors=10)\n",
    "\n",
    "norm_ent = round(norm_ent, 4)\n",
    "kde_norm = round(kde_norm, 4)\n",
    "knn_norm = round(knn_norm, 4)\n",
    "\n",
    "print(f'Normal distribution with mean {mean} and variance\\n{cov}')\n",
    "print('Real entropy: ', norm_ent)\n",
    "print('KDE entropy:  ', kde_norm)\n",
    "print('KNN entropy:  ', knn_norm)\n"
   ]
  },
  {
   "cell_type": "code",
   "execution_count": 4,
   "metadata": {
    "tags": []
   },
   "outputs": [
    {
     "name": "stdout",
     "output_type": "stream",
     "text": [
      "Logistic distribution with location mu=[5. 5.] and scale s=[3. 3.]\n",
      "Real entropy:  6.0041\n",
      "KDE entropy:   6.5125\n",
      "KNN entropy:   6.4222\n"
     ]
    }
   ],
   "source": [
    "# 2. Logistic distribution\n",
    "\n",
    "def log_dist(x, s, mu):\n",
    "    sum_exp = np.sum(np.exp(-(x-mu) / s))\n",
    "    #exp_sum = np.exp(np.sum(-(x-mu) / s))\n",
    "    return (factorial(dim) / s.prod()) * sum_exp * (1 + sum_exp)**-(dim+1)\n",
    "\n",
    "\n",
    "def log_ent():\n",
    "    def A(p):\n",
    "        if p == 1:\n",
    "            return 1\n",
    "        else:\n",
    "            p_fact = factorial(p) / factorial(p-1)\n",
    "            return (p_fact/p**2) + (p_fact/p)*A(p-1)\n",
    "\n",
    "    return np.sum(np.log(s)) - np.log(factorial(dim)) + (dim+1)*A(dim)\n",
    "\n",
    "\n",
    "# Location (mu) could take any value and scale (s) must be greater than 0\n",
    "mu, s = np.zeros(dim) + 5, np.zeros(dim) + 3\n",
    "xmin, xmax = -10, 30\n",
    "\n",
    "X2 = gen_sample(log_dist, dim, nframes, xmin, xmax, s, mu).reshape(-1, 2)\n",
    "\n",
    "log_ent = log_ent()\n",
    "kde_log = ent_kde(X2, bound1=xmin, bound2=xmax)\n",
    "knn_log = ent_knn(X2, n_neighbors=4)\n",
    "\n",
    "log_ent = round(log_ent, 4)\n",
    "kde_log = round(kde_log, 4)\n",
    "knn_log = round(knn_log, 4)\n",
    "\n",
    "print(f'Logistic distribution with location mu={mu} and scale s={s}')\n",
    "print('Real entropy: ', log_ent)\n",
    "print('KDE entropy:  ', kde_log)\n",
    "print('KNN entropy:  ', knn_log)\n"
   ]
  },
  {
   "cell_type": "code",
   "execution_count": 5,
   "metadata": {
    "tags": []
   },
   "outputs": [
    {
     "name": "stdout",
     "output_type": "stream",
     "text": [
      "Exponential distribution with rate 2\n",
      "Real entropy:  1.6781\n",
      "KDE entropy:   0.6719\n",
      "KNN entropy:   0.5111\n"
     ]
    }
   ],
   "source": [
    "# 3. Exponential distribution\n",
    "\n",
    "def exp_dist(x, lamb):\n",
    "    arg = [lamb + i - 1 for i in range(1, dim+1)]\n",
    "    sum_exp = np.sum(np.exp(x))\n",
    "    return np.prod(arg) * ((sum_exp-dim+1)**(-(lamb+dim))) * sum_exp\n",
    "\n",
    "\n",
    "def exp_ent():\n",
    "    arg = [lamb + i - 1 for i in range(1, dim+1)]\n",
    "    arg_2 = [lamb + i for i in range(1, dim+1)]\n",
    "    prods = (np.prod(arg)*np.sum(arg)) / ((np.sum(arg)-1)**2 * (np.sum(arg_2)-2))\n",
    "    return np.sum(np.log(arg)) + (dim*np.log(lamb)) - (dim*lamb*prods)\n",
    "\n",
    "\n",
    "lamb = 2\n",
    "xmin, xmax = 0.1, 5\n",
    "\n",
    "# Domain of the distribution must be positive\n",
    "X3 = gen_sample(exp_dist, dim, nframes, xmin, xmax, lamb).reshape(-1, 2)\n",
    "\n",
    "exp_ent = exp_ent()\n",
    "kde_exp = ent_kde(X3, bound1=xmin, bound2=xmax)\n",
    "knn_exp = ent_knn(X3, n_neighbors=10)\n",
    "\n",
    "exp_ent = round(exp_ent, 4)\n",
    "kde_exp = round(kde_exp, 4)\n",
    "knn_exp = round(knn_exp, 4)\n",
    "\n",
    "print(f'Exponential distribution with rate {lamb}')\n",
    "print('Real entropy: ', exp_ent)\n",
    "print('KDE entropy:  ', kde_exp)\n",
    "print('KNN entropy:  ', knn_exp)\n"
   ]
  },
  {
   "cell_type": "code",
   "execution_count": 6,
   "metadata": {
    "tags": [
     "outputPrepend"
    ]
   },
   "outputs": [
    {
     "ename": "KeyboardInterrupt",
     "evalue": "",
     "output_type": "error",
     "traceback": [
      "\u001b[0;31m---------------------------------------------------------------------------\u001b[0m",
      "\u001b[0;31mKeyboardInterrupt\u001b[0m                         Traceback (most recent call last)",
      "Input \u001b[0;32mIn [6]\u001b[0m, in \u001b[0;36m<cell line: 22>\u001b[0;34m()\u001b[0m\n\u001b[1;32m     19\u001b[0m sigma \u001b[38;5;241m=\u001b[39m np\u001b[38;5;241m.\u001b[39mzeros(dim) \u001b[38;5;241m+\u001b[39m \u001b[38;5;241m1\u001b[39m\n\u001b[1;32m     20\u001b[0m xmin, xmax \u001b[38;5;241m=\u001b[39m \u001b[38;5;241m5\u001b[39m, \u001b[38;5;241m150\u001b[39m\n\u001b[0;32m---> 22\u001b[0m X4 \u001b[38;5;241m=\u001b[39m \u001b[43mgen_sample\u001b[49m\u001b[43m(\u001b[49m\u001b[43mpar_dist\u001b[49m\u001b[43m,\u001b[49m\u001b[43m \u001b[49m\u001b[43mdim\u001b[49m\u001b[43m,\u001b[49m\u001b[43m \u001b[49m\u001b[43mnframes\u001b[49m\u001b[43m,\u001b[49m\u001b[43m \u001b[49m\u001b[43mxmin\u001b[49m\u001b[43m,\u001b[49m\u001b[43m \u001b[49m\u001b[43mxmax\u001b[49m\u001b[43m,\u001b[49m\u001b[43m \u001b[49m\u001b[43malpha\u001b[49m\u001b[43m,\u001b[49m\u001b[43m \u001b[49m\u001b[43msigma\u001b[49m\u001b[43m,\u001b[49m\u001b[43m \u001b[49m\u001b[43mmu\u001b[49m\u001b[43m)\u001b[49m\u001b[38;5;241m.\u001b[39mreshape(\u001b[38;5;241m-\u001b[39m\u001b[38;5;241m1\u001b[39m, \u001b[38;5;241m2\u001b[39m)\n\u001b[1;32m     24\u001b[0m par_ent \u001b[38;5;241m=\u001b[39m par_ent()\n\u001b[1;32m     25\u001b[0m kde_par \u001b[38;5;241m=\u001b[39m ent_kde(X4, bound1\u001b[38;5;241m=\u001b[39mxmin, bound2\u001b[38;5;241m=\u001b[39mxmax)\n",
      "Input \u001b[0;32mIn [2]\u001b[0m, in \u001b[0;36mgen_sample\u001b[0;34m(dist, dim, nframes, xmin, xmax, *args)\u001b[0m\n\u001b[1;32m     10\u001b[0m img \u001b[38;5;241m=\u001b[39m dist(dom, \u001b[38;5;241m*\u001b[39margs)\n\u001b[1;32m     11\u001b[0m ran \u001b[38;5;241m=\u001b[39m rng\u001b[38;5;241m.\u001b[39muniform(\u001b[38;5;241m0\u001b[39m, \u001b[38;5;241m1\u001b[39m)\n\u001b[0;32m---> 12\u001b[0m \u001b[38;5;28;01mif\u001b[39;00m \u001b[43mimg\u001b[49m\u001b[43m \u001b[49m\u001b[38;5;241;43m>\u001b[39;49m\u001b[43m \u001b[49m\u001b[43mran\u001b[49m:\n\u001b[1;32m     13\u001b[0m    nframes \u001b[38;5;241m-\u001b[39m\u001b[38;5;241m=\u001b[39m \u001b[38;5;241m1\u001b[39m\n\u001b[1;32m     14\u001b[0m    sample\u001b[38;5;241m.\u001b[39mappend(dom)\n",
      "\u001b[0;31mKeyboardInterrupt\u001b[0m: "
     ]
    }
   ],
   "source": [
    "# 4. Pareto distribution\n",
    "\n",
    "def par_dist(x, alpha, sigma, mu):\n",
    "    #mu = x - 0.2\n",
    "    arg = np.array([(alpha + i - 1)/mu[i-1] for i in range(1, dim+1)])\n",
    "    sum = np.sum([((x[i]-mu[i])/sigma[i]) for i in range(0, dim)])\n",
    "    return np.prod([(arg * (1 + sum)**-(alpha+i)) for i in range(1, dim+1)])\n",
    "\n",
    "\n",
    "def par_ent():\n",
    "    arg = np.array([alpha + i - 1 for i in range(1, dim+1)])\n",
    "    arg_2 = np.array([alpha + i - 2 for i in range(1, dim+1)])\n",
    "    prods = (np.prod(arg)*np.sum(arg)) / (np.sum(arg)**2 * np.sum(arg_2))\n",
    "    return -np.sum(np.log(arg/sigma)) + prods\n",
    "\n",
    "\n",
    "alpha = 2\n",
    "mu = np.zeros(dim) + 1\n",
    "sigma = np.zeros(dim) + 1\n",
    "xmin, xmax = 5, 150\n",
    "\n",
    "X4 = gen_sample(par_dist, dim, nframes, xmin, xmax, alpha, sigma, mu).reshape(-1, 2)\n",
    "\n",
    "par_ent = par_ent()\n",
    "kde_par = ent_kde(X4, bound1=xmin, bound2=xmax)\n",
    "knn_par = ent_knn(X4, n_neighbors=100)\n",
    "\n",
    "par_ent = round(par_ent, 4)\n",
    "kde_par = round(kde_par, 4)\n",
    "knn_par = round(knn_par, 4)\n",
    "\n",
    "print(f'Pareto distribution with scale {mu} and shape {alpha}')\n",
    "print('Real entropy: ', par_ent)\n",
    "print('KDE entropy:  ', kde_par)\n",
    "print('KNN entropy:  ', knn_par)\n"
   ]
  },
  {
   "cell_type": "code",
   "execution_count": 14,
   "metadata": {},
   "outputs": [
    {
     "name": "stdout",
     "output_type": "stream",
     "text": [
      "Distribution test:  1.0\n",
      "Real entropy:  2.6817\n",
      "KDE entropy:   2.4425\n",
      "KNN entropy:   2.6416\n"
     ]
    }
   ],
   "source": [
    "# 5. Manual distribution\n",
    "\n",
    "from scipy.integrate import dblquad\n",
    "\n",
    "def my_dist(x, y):\n",
    "    return 1/64 * (x + y)\n",
    "    #return 6/5*(x**2 + y)\n",
    "    #return 6/7*(x + y)**2\n",
    "\n",
    "\n",
    "def entropy(x, y):\n",
    "    return -my_dist(x, y) * np.log(my_dist(x, y))\n",
    "\n",
    "\n",
    "xmin, xmax = 0, 4\n",
    "\n",
    "# Monte Carlo sample generation\n",
    "rng = np.random.default_rng(2021)\n",
    "sample = []\n",
    "\n",
    "n = 1000\n",
    "\n",
    "while n > 0:\n",
    "    dom = rng.uniform(xmin, xmax, dim)\n",
    "    img = my_dist(dom[0], dom[1])\n",
    "    ran = rng.uniform(0, 1)\n",
    "    if img > ran:\n",
    "        n -= 1\n",
    "        sample.append(dom)\n",
    "\n",
    "\n",
    "X5 = np.array(sample)\n",
    "\n",
    "x1, x2 = xmin, xmax\n",
    "y1, y2 = lambda x: xmin, lambda x: xmax\n",
    "\n",
    "dist_test, _ = dblquad(my_dist, x1, x2, y1, y2)\n",
    "real_ent, _ = dblquad(entropy, x1, x2, y1, y2)\n",
    "\n",
    "real_ent = max(real_ent, 0)\n",
    "kde_my = ent_kde(X5, 0, 4)\n",
    "knn_my = ent_knn(X5, 10)\n",
    "\n",
    "real_ent = round(real_ent, 4)\n",
    "kde_my = round(kde_my, 4)\n",
    "knn_my = round(knn_my, 4)\n",
    "\n",
    "print(\"Distribution test: \", dist_test)\n",
    "print(\"Real entropy: \", real_ent)\n",
    "print(\"KDE entropy:  \", kde_my)\n",
    "print(\"KNN entropy:  \", knn_my)\n"
   ]
  },
  {
   "cell_type": "code",
   "execution_count": 1,
   "metadata": {},
   "outputs": [
    {
     "ename": "NameError",
     "evalue": "name 'sns' is not defined",
     "output_type": "error",
     "traceback": [
      "\u001b[0;31m---------------------------------------------------------------------------\u001b[0m",
      "\u001b[0;31mNameError\u001b[0m                                 Traceback (most recent call last)",
      "\u001b[0;32m<ipython-input-1-b9a91a16f78f>\u001b[0m in \u001b[0;36m<module>\u001b[0;34m()\u001b[0m\n\u001b[1;32m      1\u001b[0m \u001b[0;31m# Plots\u001b[0m\u001b[0;34m\u001b[0m\u001b[0;34m\u001b[0m\u001b[0;34m\u001b[0m\u001b[0m\n\u001b[0;32m----> 2\u001b[0;31m \u001b[0msns\u001b[0m\u001b[0;34m.\u001b[0m\u001b[0mset_theme\u001b[0m\u001b[0;34m(\u001b[0m\u001b[0mstyle\u001b[0m\u001b[0;34m=\u001b[0m\u001b[0;34m\"darkgrid\"\u001b[0m\u001b[0;34m)\u001b[0m\u001b[0;34m\u001b[0m\u001b[0;34m\u001b[0m\u001b[0m\n\u001b[0m\u001b[1;32m      3\u001b[0m \u001b[0mfig\u001b[0m\u001b[0;34m,\u001b[0m \u001b[0;34m(\u001b[0m\u001b[0;34m(\u001b[0m\u001b[0max1\u001b[0m\u001b[0;34m,\u001b[0m \u001b[0max2\u001b[0m\u001b[0;34m)\u001b[0m\u001b[0;34m,\u001b[0m \u001b[0;34m(\u001b[0m\u001b[0max3\u001b[0m\u001b[0;34m,\u001b[0m \u001b[0max4\u001b[0m\u001b[0;34m)\u001b[0m\u001b[0;34m)\u001b[0m \u001b[0;34m=\u001b[0m \u001b[0mplt\u001b[0m\u001b[0;34m.\u001b[0m\u001b[0msubplots\u001b[0m\u001b[0;34m(\u001b[0m\u001b[0;36m2\u001b[0m\u001b[0;34m,\u001b[0m \u001b[0;36m2\u001b[0m\u001b[0;34m,\u001b[0m \u001b[0mfigsize\u001b[0m\u001b[0;34m=\u001b[0m\u001b[0;34m(\u001b[0m\u001b[0;36m8\u001b[0m\u001b[0;34m,\u001b[0m \u001b[0;36m8\u001b[0m\u001b[0;34m)\u001b[0m\u001b[0;34m)\u001b[0m\u001b[0;34m\u001b[0m\u001b[0;34m\u001b[0m\u001b[0m\n\u001b[1;32m      4\u001b[0m \u001b[0;34m\u001b[0m\u001b[0m\n\u001b[1;32m      5\u001b[0m \u001b[0;31m# Legend box style\u001b[0m\u001b[0;34m\u001b[0m\u001b[0;34m\u001b[0m\u001b[0;34m\u001b[0m\u001b[0m\n",
      "\u001b[0;31mNameError\u001b[0m: name 'sns' is not defined"
     ]
    }
   ],
   "source": [
    "# Plots\n",
    "sns.set_theme(style=\"darkgrid\")\n",
    "fig, ((ax1, ax2), (ax3, ax4)) = plt.subplots(2, 2, figsize=(8, 8))\n",
    "\n",
    "# Legend box style\n",
    "props = dict(boxstyle='round', facecolor='wheat', alpha=0.5)\n",
    "\n",
    "sns.kdeplot(x=X1[:,0], y=X1[:,1], fill=True, ax=ax1)\n",
    "ax1.set_title(\"Normal Distribution\")\n",
    "ax1.set_xlabel(\"\")\n",
    "ax1.set_ylabel(\"\")\n",
    "legend_1 = f'Real ent: {norm_ent}\\nKDE ent: {kde_norm}\\nKNN ent: {knn_norm}'\n",
    "ax1.text(0.60, 0.95, legend_1, transform=ax1.transAxes, fontsize=9,\n",
    "    verticalalignment='top', bbox=props)\n",
    "\n",
    "sns.kdeplot(x=X2[:,0], y=X2[:,1], fill=True, ax=ax2)\n",
    "ax2.set_title(\"Logistic Distribution\")\n",
    "ax2.set_xlabel(\"\")\n",
    "ax2.set_ylabel(\"\")\n",
    "legend_2 = f'Real ent: {log_ent}\\nKDE ent: {kde_log}\\nKNN ent: {knn_log}'\n",
    "ax2.text(0.60, 0.95, legend_2, transform=ax2.transAxes, fontsize=9,\n",
    "    verticalalignment='top', bbox=props)\n",
    "\n",
    "sns.kdeplot(x=X3[:,0], y=X3[:,1], fill=True, ax=ax3)\n",
    "ax3.set_title(\"Exponential Distribution\")\n",
    "ax3.set_xlabel(\"\")\n",
    "ax3.set_ylabel(\"\")\n",
    "legend_3 = f'Real ent: {exp_ent}\\nKDE ent: {kde_exp}\\nKNN ent: {knn_exp}' \n",
    "ax3.text(0.60, 0.95, legend_3, transform=ax3.transAxes, fontsize=9,\n",
    "    verticalalignment='top', bbox=props)\n",
    "\n",
    "sns.kdeplot(x=X5[:,0], y=X5[:,1], fill=True, ax=ax4)\n",
    "ax4.set_title(\"Manual Distribution f(x,y)=1/64(x+y)\")\n",
    "ax4.set_xlabel(\"\")\n",
    "ax4.set_ylabel(\"\")\n",
    "legend_4 = f'Real ent: {real_ent}\\nKDE ent: {kde_my}\\nKNN ent: {knn_my}'\n",
    "ax4.text(0.60, 0.95, legend_4, transform=ax4.transAxes, fontsize=9,\n",
    "    verticalalignment='top', bbox=props)\n",
    "\n",
    "plt.suptitle(\"Evaluación de los modelos KNN y KDE para obtener la entropía\"\n",
    "    \"de distintas distribuciones de probabilidad\")\n",
    "plt.show()\n"
   ]
  }
 ],
 "metadata": {
  "interpreter": {
   "hash": "78ac086e21afcaed7b29ee45d1d310586dcd3cb2da7b5b4dcd412ef78f7daff4"
  },
  "kernelspec": {
   "display_name": "Python 3.7.10 64-bit ('base': conda)",
   "name": "python3"
  },
  "language_info": {
   "codemirror_mode": {
    "name": "ipython",
    "version": 3
   },
   "file_extension": ".py",
   "mimetype": "text/x-python",
   "name": "python",
   "nbconvert_exporter": "python",
   "pygments_lexer": "ipython3",
   "version": "3.8.9"
  },
  "metadata": {
   "interpreter": {
    "hash": "78ac086e21afcaed7b29ee45d1d310586dcd3cb2da7b5b4dcd412ef78f7daff4"
   }
  },
  "orig_nbformat": 2
 },
 "nbformat": 4,
 "nbformat_minor": 2
}
